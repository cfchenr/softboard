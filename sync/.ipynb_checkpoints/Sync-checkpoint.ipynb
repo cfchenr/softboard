{
 "cells": [
  {
   "cell_type": "code",
   "execution_count": 11,
   "metadata": {},
   "outputs": [],
   "source": [
    "import yaml\n",
    "with open(\"config.yaml\", \"r\", encoding=\"utf8\") as stream:\n",
    "    config = yaml.safe_load(stream)"
   ]
  },
  {
   "cell_type": "code",
   "execution_count": 21,
   "metadata": {},
   "outputs": [],
   "source": [
    "import requests\n",
    "\n",
    "response = requests.post(\"http://127.0.0.1:8000/api/v1/token/\", data={\"username\": config[\"username\"], \"password\":config[\"password\"]})"
   ]
  },
  {
   "cell_type": "code",
   "execution_count": 22,
   "metadata": {},
   "outputs": [],
   "source": [
    "access = response.json()[\"access\"]\n",
    "refresh = response.json()[\"refresh\"]"
   ]
  },
  {
   "cell_type": "code",
   "execution_count": 26,
   "metadata": {},
   "outputs": [
    {
     "name": "stdout",
     "output_type": "stream",
     "text": [
      "{'File': <_io.BufferedReader name='mne-est-2-16.yaml'>}\n",
      "{\"Suggestion\":[\"Not a valid string.\"]}\n",
      "{'File': <_io.BufferedReader name='mne-est-2-28.yaml'>}\n",
      "{\"Suggestion\":[\"Not a valid string.\"]}\n",
      "{'File': <_io.BufferedReader name='mne-est-2-35.yaml'>}\n",
      "{\"Suggestion\":[\"Not a valid string.\"]}\n",
      "{'File': <_io.BufferedReader name='mne-est-2-39.yaml'>}\n",
      "{\"Suggestion\":[\"Not a valid string.\"]}\n",
      "{'File': <_io.BufferedReader name='mne-est-2-44.yaml'>}\n",
      "{\"Suggestion\":[\"Not a valid string.\"]}\n",
      "{'File': <_io.BufferedReader name='mne-est-2-47.yaml'>}\n",
      "{\"Suggestion\":[\"Not a valid string.\"]}\n",
      "{'File': <_io.BufferedReader name='mne-num-ex-2-14.yaml'>}\n",
      "{\"Suggestion\":[\"Not a valid string.\"]}\n"
     ]
    }
   ],
   "source": [
    "import glob\n",
    "import os\n",
    "files = glob.glob(\"*.yaml\")\n",
    "\n",
    "for file in files:\n",
    "    if file != \"config.yaml\":\n",
    "        _file = open(file, 'rb')\n",
    "        files = {'File': _file}\n",
    "        data={\"last_modification\":os.path.getmtime(file)}\n",
    "        response = requests.post(\"http://softboarddev.herokuapp.com/api/v1/uploadExercises/\", files=files, data=data, headers={\"Authorization\": \"Bearer \"+access})\n",
    "        print(response.text)"
   ]
  }
 ],
 "metadata": {
  "kernelspec": {
   "display_name": "Python 3",
   "language": "python",
   "name": "python3"
  },
  "language_info": {
   "codemirror_mode": {
    "name": "ipython",
    "version": 3
   },
   "file_extension": ".py",
   "mimetype": "text/x-python",
   "name": "python",
   "nbconvert_exporter": "python",
   "pygments_lexer": "ipython3",
   "version": "3.7.4"
  }
 },
 "nbformat": 4,
 "nbformat_minor": 2
}
