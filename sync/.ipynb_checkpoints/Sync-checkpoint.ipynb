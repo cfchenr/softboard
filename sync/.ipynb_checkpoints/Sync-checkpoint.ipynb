{
 "cells": [
  {
   "cell_type": "code",
   "execution_count": 1,
   "metadata": {},
   "outputs": [],
   "source": [
    "import yaml\n",
    "with open(\"config.yaml\", \"r\", encoding=\"utf8\") as stream:\n",
    "    config = yaml.safe_load(stream)"
   ]
  },
  {
   "cell_type": "code",
   "execution_count": 3,
   "metadata": {},
   "outputs": [],
   "source": [
    "import requests\n",
    "\n",
    "response = requests.post(\"http://localhost:8000/api/v1/token/\", data={\"username\": config[\"username\"], \"password\":config[\"password\"]})"
   ]
  },
  {
   "cell_type": "code",
   "execution_count": 4,
   "metadata": {},
   "outputs": [],
   "source": [
    "access = response.json()[\"access\"]\n",
    "refresh = response.json()[\"refresh\"]"
   ]
  },
  {
   "cell_type": "code",
   "execution_count": 5,
   "metadata": {},
   "outputs": [
    {
     "name": "stdout",
     "output_type": "stream",
     "text": [
      "{\"id\":3,\"ExerciseId\":\"fhenriques_mne-est-2-16\",\"created_by\":\"http://softboarddev.herokuapp.com/api/v1/user/1/\",\"Title\":\"MNE Ex. 2.16 (estatística)\",\"Problem\":\"Seja $X$ uma variável aleatória com função densidade de probabilidade $f(x)=2x$, com $x \\\\in ]0,1[$. Pode verificar-se  que $E[X^2]=1/2$ e que $E[X]=2/3$. A variância de $X$ é dada por:\\n\\n <ol>    \\n <li>Var$[X]=\\\\frac{4}{9}$.</li>\\n <li>Var$[X]=\\\\frac{1}{2}$.</li>\\n <li>Var$[X]=\\\\frac{1}{18}$. </li> #% Correcta\\n <li>nenhuma das anteriores é correta</li>\\n </ol>\",\"Resolution\":\"\",\"create_dt\":\"2019-11-27T15:27:11.135542Z\",\"update_dt\":\"2019-11-27T18:22:27.223342Z\",\"updated_by\":1}\n",
      "{\"id\":4,\"ExerciseId\":\"fhenriques_mne-est-2-28\",\"created_by\":\"http://softboarddev.herokuapp.com/api/v1/user/1/\",\"Title\":\"MNE Ex. 2.28 (estatística)\",\"Problem\":\"O verdadeiro peso de sacos de um quilo de uma certa marca de café é aleatório e  apresenta uma densidade de probabilidade uniformemente distribuída entre 0.8 e 1.05Kg.\",\"Resolution\":\"\",\"create_dt\":\"2019-11-27T15:27:11.269675Z\",\"update_dt\":\"2019-11-27T18:22:27.369661Z\",\"updated_by\":1}\n",
      "{\"id\":5,\"ExerciseId\":\"fhenriques_mne-est-2-35\",\"created_by\":\"http://softboarddev.herokuapp.com/api/v1/user/1/\",\"Title\":\"MNE Ex. 2.35 (estatística)\",\"Problem\":\"O comprimento da vértebra lombar em indivíduos adultos é bem modelado  por uma distribuição normal de média 60mm e desvio padrão 10mm.\",\"Resolution\":\"\",\"create_dt\":\"2019-11-27T15:27:11.448747Z\",\"update_dt\":\"2019-11-27T18:22:27.544870Z\",\"updated_by\":1}\n",
      "{\"id\":6,\"ExerciseId\":\"fhenriques_mne-est-2-39\",\"created_by\":\"http://softboarddev.herokuapp.com/api/v1/user/1/\",\"Title\":\"MNE Ex. 2.39 (estatística)\",\"Problem\":\"<p> O peso médio dos indivíduos duma certa espécie de bivalves é 31g  e o respectivo desvio padrão é 2.4g. Recolhe-se uma  <a href=\\\"http://sweet.ua.pt/pedrocruz/mne/aa-amostra-aleatoria.html\\\">amostra aleatória</a> de 36 indivíduos desta espécie. </p>\",\"Resolution\":\"\",\"create_dt\":\"2019-11-27T15:27:11.613887Z\",\"update_dt\":\"2019-11-27T18:22:27.731080Z\",\"updated_by\":1}\n",
      "{\"id\":7,\"ExerciseId\":\"fhenriques_mne-est-2-44\",\"created_by\":\"http://softboarddev.herokuapp.com/api/v1/user/1/\",\"Title\":\"MNE Ex. 2.44 (estatística)\",\"Problem\":\"<p>  Uma empresa química vende embalagens de um dado composto cujo peso se sabe ter  <a href=\\\"http://sweet.ua.pt/pedrocruz/mne/d-normal.html#descricao\\\">distribuição normal</a>  com média 433 gramas e variância de 400~gramas$^2$.  </p> <p> Em cem pesagens efectuadas, quantas embalagens se <a href=\\\"http://sweet.ua.pt/pedrocruz/mne/va-media-populacional.html\\\">espera</a> que tenham um peso inferior a 470 gramas? </p>\",\"Resolution\":\"\",\"create_dt\":\"2019-11-27T15:27:11.756173Z\",\"update_dt\":\"2019-11-27T18:22:27.896813Z\",\"updated_by\":1}\n",
      "{\"id\":2,\"ExerciseId\":\"fhenriques_mne-est-2-47\",\"created_by\":\"http://softboarddev.herokuapp.com/api/v1/user/1/\",\"Title\":\"MNE Ex. 2.47 (estatística)\",\"Problem\":\"<p> Seja $(X_1,X_2, \\\\ldots, X_{50})$ uma amostra aleatória com distribuição Uniforme no intervalo $(0,2)$.  A estatística $Y=(X_1+X_2+ \\\\ldots +X_{50})/50$ tem distribuição aproximadamente: </p>     <ol> <li> N(1,1/150); </li> <li> U(0,50); </li> <li> N(1,1/12); </li> <li> nenhuma das outras é verdadeira </li> </ol>\",\"Resolution\":\"\",\"create_dt\":\"2019-11-13T21:12:36.745713Z\",\"update_dt\":\"2019-11-27T18:22:28.047155Z\",\"updated_by\":1}\n",
      "{\"id\":1,\"ExerciseId\":\"fhenriques_mne-num-ex-2-14\",\"created_by\":\"http://softboarddev.herokuapp.com/api/v1/user/1/\",\"Title\":\"MNE Ex. 2.14 (de numérica)\",\"Problem\":\"<p>\\n   O tempo (em minutos) que os jovens despendem a responder a pequenos questionários (entre 10 a 12 perguntas) pode considerar-se uma \\n   <a href='http://sweet.ua.pt/pedrocruz/mne/va-va.html'>v.a.</a> \\n   $X$ com \\n   <a href='http://sweet.ua.pt/pedrocruz/mne/va-funcaodensidade.html'>f.d.p.</a>\\n</p> $$ \\\\begin{eqnarray*} f(x)=\\\\left\\\\{\\\\begin{array}{lc} 2/3 & 1<x<2.5\\\\\\\\ 0 & \\\\mbox{outros } x \\\\end{array}\\\\right. \\\\end{eqnarray*} $$\",\"Resolution\":\"Resolução de todas as alíneas\",\"create_dt\":\"2019-11-08T16:22:49.165347Z\",\"update_dt\":\"2019-11-27T18:22:28.254414Z\",\"updated_by\":1}\n"
     ]
    }
   ],
   "source": [
    "import glob\n",
    "import os\n",
    "files = glob.glob(\"*.yaml\")\n",
    "\n",
    "for file in files:\n",
    "    if file != \"config.yaml\":\n",
    "        _file = open(file, 'rb')\n",
    "        files = {'File': _file}\n",
    "        data={\"last_modification\":os.path.getmtime(file)}\n",
    "        response = requests.post(\"http://softboarddev.herokuapp.com/api/v1/uploadExercises/\", files=files, data=data, headers={\"Authorization\": \"Bearer \"+access})\n",
    "        print(response.text)"
   ]
  }
 ],
 "metadata": {
  "kernelspec": {
   "display_name": "Python 3",
   "language": "python",
   "name": "python3"
  },
  "language_info": {
   "codemirror_mode": {
    "name": "ipython",
    "version": 3
   },
   "file_extension": ".py",
   "mimetype": "text/x-python",
   "name": "python",
   "nbconvert_exporter": "python",
   "pygments_lexer": "ipython3",
   "version": "3.7.4"
  }
 },
 "nbformat": 4,
 "nbformat_minor": 2
}
