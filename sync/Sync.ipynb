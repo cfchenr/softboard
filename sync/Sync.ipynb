{
 "cells": [
  {
   "cell_type": "code",
   "execution_count": 1,
   "metadata": {},
   "outputs": [],
   "source": [
    "import yaml\n",
    "with open(\"config.yaml\", \"r\", encoding=\"utf8\") as stream:\n",
    "    config = yaml.safe_load(stream)"
   ]
  },
  {
   "cell_type": "code",
   "execution_count": 7,
   "metadata": {},
   "outputs": [],
   "source": [
    "import requests\n",
    "\n",
    "response = requests.post(\"http://localhost:8000/api/v1/token/\", data={\"username\": config[\"username\"], \"password\":config[\"password\"]})"
   ]
  },
  {
   "cell_type": "code",
   "execution_count": 8,
   "metadata": {},
   "outputs": [],
   "source": [
    "access = response.json()[\"access\"]\n",
    "refresh = response.json()[\"refresh\"]"
   ]
  },
  {
   "cell_type": "code",
   "execution_count": 24,
   "metadata": {},
   "outputs": [
    {
     "name": "stdout",
     "output_type": "stream",
     "text": [
      "{\"Exercise\":\"Ex. 1.01\",\"Subheading\":\"b\",\"errors\":{\"Solution\":[\"Not a valid string.\"]}}\n"
     ]
    }
   ],
   "source": [
    "import glob\n",
    "import os\n",
    "files = glob.glob(\"*.yaml\")\n",
    "\n",
    "for file in files:\n",
    "    if file != \"config.yaml\":\n",
    "        _file = open(file, 'rb')\n",
    "        files = {'File': _file}\n",
    "        data={\"last_modification\":os.path.getmtime(file)}\n",
    "        response = requests.post(\"http://localhost:8000/api/v1/uploadExercises/\", files=files, data=data, headers={\"Authorization\": \"Bearer \"+access})\n",
    "        print(response.text)"
   ]
  }
 ],
 "metadata": {
  "kernelspec": {
   "display_name": "Python 3",
   "language": "python",
   "name": "python3"
  },
  "language_info": {
   "codemirror_mode": {
    "name": "ipython",
    "version": 3
   },
   "file_extension": ".py",
   "mimetype": "text/x-python",
   "name": "python",
   "nbconvert_exporter": "python",
   "pygments_lexer": "ipython3",
   "version": "3.7.4"
  }
 },
 "nbformat": 4,
 "nbformat_minor": 2
}
